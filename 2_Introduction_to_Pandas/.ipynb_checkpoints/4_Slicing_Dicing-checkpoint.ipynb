{
 "cells": [
  {
   "cell_type": "markdown",
   "metadata": {},
   "source": [
    "# Slicing and Dicing Dataframes\n",
    "\n",
    "You have seen how to do indexing of dataframes using ```df.iloc``` and ```df.loc```. Now, let's see how to subset dataframes based on certain conditions. You will now study how to:\n",
    "\n",
    "* Subset rows based on certain conditions\n",
    "* Subset rows and columns based on conditions \n",
    "* Add and remove rows and columns from dataframes"
   ]
  },
  {
   "cell_type": "code",
   "execution_count": null,
   "metadata": {},
   "outputs": [],
   "source": [
    "# loading libraries and reading the data\n",
    "import numpy as np\n",
    "import pandas as pd\n",
    "\n",
    "df = pd.read_csv(\"../global_sales_data/market_fact.csv\")\n",
    "df.head()"
   ]
  },
  {
   "cell_type": "markdown",
   "metadata": {},
   "source": [
    "### Subsetting Rows Based on Conditions\n",
    "\n",
    "Often, you want to select rows and columns which satisfy some given conditions. For e.g., select all the orders where the ```Sales``` > 3000, or all the orders where 2000 < ```Sales``` < 3000 and ```Profit``` < 100.\n",
    "\n",
    "The best way to do these operations is using ```df.loc[]```, since ```df.iloc[]``` would require you to remember the column indices, which is rarely easy.\n",
    "\n",
    "Let's see some examples."
   ]
  },
  {
   "cell_type": "code",
   "execution_count": null,
   "metadata": {},
   "outputs": [],
   "source": [
    "# Select all rows where Sales > 3000\n",
    "# First, we get a boolean array where True corresponds to rows having Sales > 3000\n",
    "df.Sales > 3000"
   ]
  },
  {
   "cell_type": "code",
   "execution_count": null,
   "metadata": {},
   "outputs": [],
   "source": [
    "# Then, we pass this boolean array inside df.loc\n",
    "df.loc[df.Sales > 3000]"
   ]
  },
  {
   "cell_type": "code",
   "execution_count": null,
   "metadata": {},
   "outputs": [],
   "source": [
    "# An alternative to df.Sales is df['Sales]\n",
    "# You may want to put the : to indicate that you want all columns\n",
    "# It is totally optional, but is more explicit \n",
    "df.loc[df['Sales'] > 3000, :]"
   ]
  },
  {
   "cell_type": "code",
   "execution_count": null,
   "metadata": {},
   "outputs": [],
   "source": [
    "# We combine multiple conditions using the & operator\n",
    "# E.g. all orders having 2000 < Sales < 3000 and Profit > 100\n",
    "df.loc[(df.Sales > 2000) & (df.Sales < 3000) & (df.Profit > 100) ]"
   ]
  },
  {
   "cell_type": "code",
   "execution_count": null,
   "metadata": {},
   "outputs": [],
   "source": [
    "# E.g. all orders having 2000 < Sales < 3000 and Profit > 100\n",
    "# Also, this time, you only need the Cust_id, Sales and Profit columns\n",
    "df.loc[(df.Sales > 2000) & (df.Sales < 3000) & (df.Profit > 100), ['Cust_id', 'Sales', 'Profit']]"
   ]
  },
  {
   "cell_type": "code",
   "execution_count": null,
   "metadata": {},
   "outputs": [],
   "source": [
    "# You can use the == and != operators \n",
    "df.loc[(df.Sales == 4233.15)]\n",
    "df.loc[(df.Sales != 1000)]"
   ]
  },
  {
   "cell_type": "code",
   "execution_count": null,
   "metadata": {},
   "outputs": [],
   "source": [
    "# You may want to select rows whose column value is in an iterable\n",
    "# For instance, say a colleague gives you a list of customer_ids from a certain region\n",
    "\n",
    "customers_in_bangalore = ['Cust_1798', 'Cust_1519', 'Cust_637', 'Cust_851']\n",
    "\n",
    "# To get all the orders from these customers, use the isin function\n",
    "# It returns a boolean, which you can use to select rows\n",
    "df.loc[df['Cust_id'].isin(customers_in_bangalore)]"
   ]
  }
 ],
 "metadata": {
  "kernelspec": {
   "display_name": "Python 3",
   "language": "python",
   "name": "python3"
  },
  "language_info": {
   "codemirror_mode": {
    "name": "ipython",
    "version": 3
   },
   "file_extension": ".py",
   "mimetype": "text/x-python",
   "name": "python",
   "nbconvert_exporter": "python",
   "pygments_lexer": "ipython3",
   "version": "3.5.3"
  }
 },
 "nbformat": 4,
 "nbformat_minor": 2
}
