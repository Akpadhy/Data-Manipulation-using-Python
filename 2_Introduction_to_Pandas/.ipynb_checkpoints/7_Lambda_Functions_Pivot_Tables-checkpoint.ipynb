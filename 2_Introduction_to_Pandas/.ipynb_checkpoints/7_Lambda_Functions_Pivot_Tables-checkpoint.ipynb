{
 "cells": [
  {
   "cell_type": "markdown",
   "metadata": {},
   "source": [
    "# Lambda Functions and Pivot Tables\n",
    "\n",
    "Until now, we have not made any changes or modifications to the data. In this section, we will:\n",
    "* Use lambda functions to create new and alter existing columns\n",
    "* Use pandas pivot tables as an alternative to ```df.groupby()``` to summarise data\n",
    "\n",
    "Let's first read all the files and create a ```master_df```. "
   ]
  },
  {
   "cell_type": "code",
   "execution_count": null,
   "metadata": {},
   "outputs": [],
   "source": [
    "# Loading libraries and files\n",
    "import numpy as np\n",
    "import pandas as pd\n",
    "\n",
    "market_df = pd.read_csv(\"../global_sales_data/market_fact.csv\")\n",
    "customer_df = pd.read_csv(\"../global_sales_data/cust_dimen.csv\")\n",
    "product_df = pd.read_csv(\"../global_sales_data/prod_dimen.csv\")\n",
    "shipping_df = pd.read_csv(\"../global_sales_data/shipping_dimen.csv\")\n",
    "orders_df = pd.read_csv(\"../global_sales_data/orders_dimen.csv\")\n",
    "\n",
    "# Merging the dataframes one by one\n",
    "df_1 = pd.merge(market_df, customer_df, how='inner', on='Cust_id')\n",
    "df_2 = pd.merge(df_1, product_df, how='inner', on='Prod_id')\n",
    "df_3 = pd.merge(df_2, shipping_df, how='inner', on='Ship_id')\n",
    "master_df = pd.merge(df_3, orders_df, how='inner', on='Ord_id')\n",
    "\n",
    "master_df.head()"
   ]
  },
  {
   "cell_type": "markdown",
   "metadata": {},
   "source": [
    "### Lambda Functions\n",
    "\n",
    "Say you want to create a new column indicating whether a given order was profitable or not (1/0). This can be easily done using the ```apply()``` method on a column of the dataframe. "
   ]
  },
  {
   "cell_type": "code",
   "execution_count": null,
   "metadata": {},
   "outputs": [],
   "source": [
    "# Create a function to be applied\n",
    "def is_positive(x):\n",
    "    return x > 0\n",
    "\n",
    "# Create a new column\n",
    "master_df['is_profitable'] = master_df['Profit'].apply(is_positive)\n",
    "master_df.head()"
   ]
  },
  {
   "cell_type": "markdown",
   "metadata": {},
   "source": [
    "The same can be done in just one line of code using lambda functions. "
   ]
  },
  {
   "cell_type": "code",
   "execution_count": null,
   "metadata": {},
   "outputs": [],
   "source": [
    "# Create a new column using lambda function\n",
    "master_df['is_profitable'] = master_df['Profit'].apply(lambda x: x > 0)\n",
    "master_df.head()"
   ]
  },
  {
   "cell_type": "markdown",
   "metadata": {},
   "source": [
    "Now you can use the new column to compare the percentage of profitable orders across groups."
   ]
  },
  {
   "cell_type": "code",
   "execution_count": null,
   "metadata": {},
   "outputs": [],
   "source": [
    "# Comparing percentage of profitable orders across customer segments\n",
    "by_segment = master_df.groupby('Customer_Segment')\n",
    "by_segment.is_profitable.mean()"
   ]
  },
  {
   "cell_type": "code",
   "execution_count": null,
   "metadata": {},
   "outputs": [],
   "source": [
    "# Comparing percentage of profitable orders across product categories\n",
    "by_category = master_df.groupby('Product_Category')\n",
    "by_category.is_profitable.mean()"
   ]
  },
  {
   "cell_type": "markdown",
   "metadata": {},
   "source": [
    "In FURNITURE, 46% orders are profitable, compare to 57% in TECHNOLOGY. "
   ]
  },
  {
   "cell_type": "code",
   "execution_count": null,
   "metadata": {},
   "outputs": [],
   "source": [
    "# You can also use apply and lambda to alter existing columns\n",
    "# E.g. you want to see Profit as one decimal place\n",
    "# apply the round() function \n",
    "master_df['Profit'] = master_df['Profit'].apply(lambda x: round(x, 1))\n",
    "master_df.head()"
   ]
  },
  {
   "cell_type": "markdown",
   "metadata": {},
   "source": [
    "You sometimes need to create new columns using existing columns, for instance, say you want a column ```Profit / Order_Quantity```. "
   ]
  },
  {
   "cell_type": "code",
   "execution_count": null,
   "metadata": {},
   "outputs": [],
   "source": [
    "# Creating a column Profit / Order_Quantity\n",
    "master_df['profit_per_qty'] = master_df['Profit'] / master_df['Order_Quantity']\n",
    "master_df.head()"
   ]
  },
  {
   "cell_type": "markdown",
   "metadata": {},
   "source": [
    "### Pivot Tables\n",
    "\n",
    "You may want to use pandas pivot tables as an alternative to ```groupby()```. They provide Excel-like functionalities to create aggregate tables. "
   ]
  },
  {
   "cell_type": "code",
   "execution_count": null,
   "metadata": {},
   "outputs": [],
   "source": [
    "# Read documentation\n",
    "help(pd.DataFrame.pivot_table)"
   ]
  },
  {
   "cell_type": "markdown",
   "metadata": {},
   "source": [
    "The general syntax is ```pivot_table(data, values=None, index=None, columns=None, aggfunc='mean', ...)```.\n",
    "* ```data``` is a dataframe\n",
    "* ```values``` contains the column to aggregate\n",
    "* ```index``` is the row in the pivot table\n",
    "* ```columns``` contains the columns you want in the pivot table\n",
    "* ```aggfunc``` is the aggregate function\n",
    "\n",
    "Let's see some examples."
   ]
  },
  {
   "cell_type": "code",
   "execution_count": null,
   "metadata": {},
   "outputs": [],
   "source": [
    "# E.g. Compare average Sales across customer segments\n",
    "master_df.pivot_table(values = 'Sales', index = 'Customer_Segment', aggfunc = 'mean')\n"
   ]
  },
  {
   "cell_type": "code",
   "execution_count": null,
   "metadata": {},
   "outputs": [],
   "source": [
    "# E.g. compare total number of profitable orders across regions\n",
    "# Note that since is_profitable is 1/0, we can directly compute the sum\n",
    "master_df.pivot_table(values = 'is_profitable', index = 'Region', aggfunc = 'sum')"
   ]
  },
  {
   "cell_type": "code",
   "execution_count": null,
   "metadata": {},
   "outputs": [],
   "source": [
    "# Grouping by both rows and columns\n",
    "# Compare the total profit across product categories and customer segments\n",
    "# Since there are two categorical variables, we use both rows (index) and columns\n",
    "master_df.pivot_table(values = 'Profit', \n",
    "                      index = 'Product_Category', \n",
    "                      columns = 'Customer_Segment', \n",
    "                      aggfunc = 'sum')"
   ]
  },
  {
   "cell_type": "markdown",
   "metadata": {},
   "source": [
    "You don't necessarily need to specify all four arguments, since ```pivot_table()``` has some smart defaults. For instance, if you just provide ```columns```, it will compute the **mean of all the numeric columns** across each column. For e.g.:"
   ]
  },
  {
   "cell_type": "code",
   "execution_count": 40,
   "metadata": {},
   "outputs": [
    {
     "data": {
      "text/html": [
       "<div>\n",
       "<table border=\"1\" class=\"dataframe\">\n",
       "  <thead>\n",
       "    <tr style=\"text-align: right;\">\n",
       "      <th>Product_Category</th>\n",
       "      <th>FURNITURE</th>\n",
       "      <th>OFFICE SUPPLIES</th>\n",
       "      <th>TECHNOLOGY</th>\n",
       "    </tr>\n",
       "  </thead>\n",
       "  <tbody>\n",
       "    <tr>\n",
       "      <th>Discount</th>\n",
       "      <td>0.049287</td>\n",
       "      <td>0.050230</td>\n",
       "      <td>0.048746</td>\n",
       "    </tr>\n",
       "    <tr>\n",
       "      <th>Order_ID_x</th>\n",
       "      <td>30128.711717</td>\n",
       "      <td>30128.122560</td>\n",
       "      <td>29464.891525</td>\n",
       "    </tr>\n",
       "    <tr>\n",
       "      <th>Order_ID_y</th>\n",
       "      <td>30128.711717</td>\n",
       "      <td>30128.122560</td>\n",
       "      <td>29464.891525</td>\n",
       "    </tr>\n",
       "    <tr>\n",
       "      <th>Order_Quantity</th>\n",
       "      <td>25.709977</td>\n",
       "      <td>25.656833</td>\n",
       "      <td>25.266344</td>\n",
       "    </tr>\n",
       "    <tr>\n",
       "      <th>Product_Base_Margin</th>\n",
       "      <td>0.598555</td>\n",
       "      <td>0.461270</td>\n",
       "      <td>0.556305</td>\n",
       "    </tr>\n",
       "    <tr>\n",
       "      <th>Profit</th>\n",
       "      <td>68.116531</td>\n",
       "      <td>112.369544</td>\n",
       "      <td>429.208668</td>\n",
       "    </tr>\n",
       "    <tr>\n",
       "      <th>Sales</th>\n",
       "      <td>3003.822820</td>\n",
       "      <td>814.048178</td>\n",
       "      <td>2897.941008</td>\n",
       "    </tr>\n",
       "    <tr>\n",
       "      <th>Shipping_Cost</th>\n",
       "      <td>30.883811</td>\n",
       "      <td>7.829829</td>\n",
       "      <td>8.954886</td>\n",
       "    </tr>\n",
       "    <tr>\n",
       "      <th>is_profitable</th>\n",
       "      <td>0.465197</td>\n",
       "      <td>0.466161</td>\n",
       "      <td>0.573366</td>\n",
       "    </tr>\n",
       "    <tr>\n",
       "      <th>profit_per_qty</th>\n",
       "      <td>-3.607020</td>\n",
       "      <td>1.736175</td>\n",
       "      <td>-52.274216</td>\n",
       "    </tr>\n",
       "  </tbody>\n",
       "</table>\n",
       "</div>"
      ],
      "text/plain": [
       "Product_Category        FURNITURE  OFFICE SUPPLIES    TECHNOLOGY\n",
       "Discount                 0.049287         0.050230      0.048746\n",
       "Order_ID_x           30128.711717     30128.122560  29464.891525\n",
       "Order_ID_y           30128.711717     30128.122560  29464.891525\n",
       "Order_Quantity          25.709977        25.656833     25.266344\n",
       "Product_Base_Margin      0.598555         0.461270      0.556305\n",
       "Profit                  68.116531       112.369544    429.208668\n",
       "Sales                 3003.822820       814.048178   2897.941008\n",
       "Shipping_Cost           30.883811         7.829829      8.954886\n",
       "is_profitable            0.465197         0.466161      0.573366\n",
       "profit_per_qty          -3.607020         1.736175    -52.274216"
      ]
     },
     "execution_count": 40,
     "metadata": {},
     "output_type": "execute_result"
    }
   ],
   "source": [
    "# Computes the mean of all numeric columns across categories\n",
    "# Notice that the means of Order_IDs are meaningless\n",
    "master_df.pivot_table(columns = 'Product_Category')"
   ]
  }
 ],
 "metadata": {
  "kernelspec": {
   "display_name": "Python 3",
   "language": "python",
   "name": "python3"
  },
  "language_info": {
   "codemirror_mode": {
    "name": "ipython",
    "version": 3
   },
   "file_extension": ".py",
   "mimetype": "text/x-python",
   "name": "python",
   "nbconvert_exporter": "python",
   "pygments_lexer": "ipython3",
   "version": "3.5.3"
  }
 },
 "nbformat": 4,
 "nbformat_minor": 2
}
