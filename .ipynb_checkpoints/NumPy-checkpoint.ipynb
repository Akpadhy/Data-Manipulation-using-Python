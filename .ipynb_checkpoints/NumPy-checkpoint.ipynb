{
 "cells": [
  {
   "cell_type": "markdown",
   "metadata": {},
   "source": [
    "# NumPy\n",
    "\n",
    "In this section, you will:\n",
    "\n",
    "* Compare NumPy and standard Python ways to do computation\n",
    "    * Understand the advantages of NumPy by comparing computation times of NumPy and standard python\n",
    "* Create NumPy arrays\n",
    "    * Convert lists to numpy arrays \n",
    "    * Create (initialise) empty and non-empty arrays\n",
    "* Manipulate one-dimensional arrays\n",
    "    * Apply built-in functions on arrays\n",
    "    * Manipulate multiple arrays\n",
    "    * Apply your own functions on arrays\n",
    "* Create and manipulate two, three and higher dimensional arrays"
   ]
  },
  {
   "cell_type": "code",
   "execution_count": 3,
   "metadata": {},
   "outputs": [],
   "source": [
    "import numpy as np"
   ]
  },
  {
   "cell_type": "markdown",
   "metadata": {},
   "source": [
    "The basic data structure in numpy is called an array, and is created using the method np.array(). <br>\n",
    "The following code converts a list into a numpy array."
   ]
  },
  {
   "cell_type": "code",
   "execution_count": 4,
   "metadata": {},
   "outputs": [
    {
     "name": "stdout",
     "output_type": "stream",
     "text": [
      "[2 4 5 6 7 9]\n",
      "<class 'numpy.ndarray'>\n"
     ]
    }
   ],
   "source": [
    "numpy_array = np.array([2, 4, 5, 6, 7, 9])\n",
    "print(numpy_array)\n",
    "print(type(numpy_array))"
   ]
  },
  {
   "cell_type": "markdown",
   "metadata": {},
   "source": [
    "### Advantages of NumPy \n",
    "\n",
    "So what's the use of an array over a list, especially for data analysis? <br>\n",
    "1. You can write **vectorised** code on numpy arrays, not on lists. \n",
    "2. Numpy is much faster than the standard python ways to do computations.\n",
    "\n",
    "Let's see an example. "
   ]
  },
  {
   "cell_type": "markdown",
   "metadata": {},
   "source": [
    "Say you have two lists of numbers, and want to calculate the element-wise product. "
   ]
  },
  {
   "cell_type": "code",
   "execution_count": 13,
   "metadata": {},
   "outputs": [
    {
     "name": "stdout",
     "output_type": "stream",
     "text": [
      "[12, 30, 7, 35]\n"
     ]
    }
   ],
   "source": [
    "list_1 = [3, 6, 7, 5]\n",
    "list_2 = [4, 5, 1, 7]\n",
    "\n",
    "# the list way to do it: map a product function to the two lists\n",
    "product_list = list(map(lambda x, y: x*y, list_1, list_2))\n",
    "print(product_list)\n"
   ]
  },
  {
   "cell_type": "code",
   "execution_count": 14,
   "metadata": {},
   "outputs": [
    {
     "name": "stdout",
     "output_type": "stream",
     "text": [
      "[12 30  7 35]\n",
      "<class 'numpy.ndarray'>\n"
     ]
    }
   ],
   "source": [
    "# The numpy array way to do it: simply multiply the two lists\n",
    "array_1 = np.array(list_1)\n",
    "array_2 = np.array(list_2)\n",
    "\n",
    "array_3 = array_1*array_2\n",
    "print(array_3)\n",
    "print(type(array_3))"
   ]
  },
  {
   "cell_type": "markdown",
   "metadata": {},
   "source": [
    "### Creating NumPy Arrays \n",
    "\n",
    "You can generate sequences of numbers in a numpy array using the method np.arange()."
   ]
  },
  {
   "cell_type": "code",
   "execution_count": 7,
   "metadata": {},
   "outputs": [
    {
     "name": "stdout",
     "output_type": "stream",
     "text": [
      "[10 15 20 25 30 35 40 45 50 55 60 65 70 75 80 85 90 95]\n"
     ]
    }
   ],
   "source": [
    "# generating a sequence of numbers from 10 to 95 with a gap of 5, in a numpy array\n",
    "numbers = np.arange(10, 100, 5)\n",
    "print(numbers)\n"
   ]
  },
  {
   "cell_type": "markdown",
   "metadata": {},
   "source": [
    "### Applying Operations (Functions) on NumPy arrays\n",
    "\n",
    "You can apply almost all common operations on NumPy arrays, such as mean, median, sum, etc.\n",
    "There are two ways to apply functions on arrays, as shown in these examples:\n",
    "1. numpy_array.mean()\n",
    "2. np.median(numpy_array)"
   ]
  },
  {
   "cell_type": "code",
   "execution_count": 8,
   "metadata": {},
   "outputs": [
    {
     "name": "stdout",
     "output_type": "stream",
     "text": [
      "5.25\n",
      "7\n",
      "5.5\n"
     ]
    }
   ],
   "source": [
    "# mean of an array\n",
    "print(array_1.mean())\n",
    "\n",
    "# max value in an array\n",
    "print(array_1.max())\n",
    "\n",
    "# median\n",
    "print(np.median(array_1))\n"
   ]
  },
  {
   "cell_type": "markdown",
   "metadata": {},
   "source": [
    "###  Applying your own functions to numpy arrays\n",
    "\n",
    "You can apply your own functions on np arrays, for instance, say you want to apply the operation x/(x+1) <br>on each element of an array."
   ]
  },
  {
   "cell_type": "code",
   "execution_count": 50,
   "metadata": {},
   "outputs": [
    {
     "name": "stdout",
     "output_type": "stream",
     "text": [
      "[0.99009900990099009, 0.99019607843137258, 0.99029126213592233, 0.99038461538461542, 0.99047619047619051, 0.99056603773584906, 0.99065420560747663, 0.9907407407407407, 0.99082568807339455, 0.99090909090909096, 0.99099099099099097, 0.9910714285714286, 0.99115044247787609, 0.99122807017543857, 0.99130434782608701, 0.99137931034482762, 0.99145299145299148, 0.99152542372881358, 0.99159663865546221, 0.9916666666666667, 0.99173553719008267, 0.99180327868852458, 0.99186991869918695, 0.99193548387096775, 0.99199999999999999, 0.99206349206349209, 0.99212598425196852, 0.9921875, 0.99224806201550386, 0.99230769230769234, 0.99236641221374045, 0.99242424242424243, 0.99248120300751874, 0.9925373134328358, 0.99259259259259258, 0.99264705882352944, 0.99270072992700731, 0.99275362318840576, 0.9928057553956835, 0.99285714285714288, 0.99290780141843971, 0.99295774647887325, 0.99300699300699302, 0.99305555555555558, 0.99310344827586206, 0.99315068493150682, 0.99319727891156462, 0.9932432432432432, 0.99328859060402686, 0.99333333333333329]\n",
      "<class 'map'>\n"
     ]
    }
   ],
   "source": [
    "# a numpy array\n",
    "some_array = np.arange(100, 150)\n",
    "new_array = map(lambda x: x/(x+1), some_array)\n",
    "print(list(new_array))\n",
    "print(type(new_array))\n"
   ]
  },
  {
   "cell_type": "code",
   "execution_count": 51,
   "metadata": {},
   "outputs": [
    {
     "name": "stdout",
     "output_type": "stream",
     "text": [
      "[]\n",
      "[]\n"
     ]
    }
   ],
   "source": [
    "# Say you want to round this off to two decimals\n",
    "\n",
    "# The standard round() function\n",
    "print(list(new_array))\n",
    "new_array_rounded = map(lambda x: round(x, 2), list(new_array))\n",
    "print(list(new_array_rounded))"
   ]
  },
  {
   "cell_type": "code",
   "execution_count": 10,
   "metadata": {},
   "outputs": [
    {
     "name": "stdout",
     "output_type": "stream",
     "text": [
      "0.5543947219848633\n",
      "0.023016691207885742\n",
      "The ratio of time taken is 24.086638560581733\n"
     ]
    }
   ],
   "source": [
    "## Comparing time taken for computation\n",
    "list_1 = [i for i in range(1000000)]\n",
    "list_2 = [j**2 for j in range(1000000)]\n",
    "\n",
    "# list multiplication\n",
    "import time\n",
    "t0 = time.time()\n",
    "product_list = list(map(lambda x, y: x*y, list_1, list_2))\n",
    "t1 = time.time()\n",
    "list_time = t1 - t0 \n",
    "print(t1-t0)\n",
    "\n",
    "\n",
    "# numpy array \n",
    "array_1 = np.array(list_1)\n",
    "array_2 = np.array(list_2)\n",
    "\n",
    "t0 = time.time()\n",
    "array_3 = array_1*array_2\n",
    "t1 = time.time()\n",
    "numpy_time = t1 - t0\n",
    "\n",
    "print(t1-t0)\n",
    "\n",
    "print(\"The ratio of time taken is {}\".format(list_time/numpy_time))"
   ]
  },
  {
   "cell_type": "markdown",
   "metadata": {},
   "source": [
    "For calculating the product of two arrays, the *list* way took 1.11 seconds, whereas numpy took about 0.03 seconds. \n",
    "In this case, numpy is about 24 times faster than the standard implementation of python. \n",
    "\n"
   ]
  },
  {
   "cell_type": "markdown",
   "metadata": {},
   "source": [
    "### Working with 2-D and 3-D Arrays"
   ]
  },
  {
   "cell_type": "code",
   "execution_count": 65,
   "metadata": {},
   "outputs": [
    {
     "name": "stdout",
     "output_type": "stream",
     "text": [
      "[[1 4 5]\n",
      " [3 8 6]]\n",
      "[[ 0.  0.  0.  0.]\n",
      " [ 0.  0.  0.  0.]\n",
      " [ 0.  0.  0.  0.]]\n",
      "[[ 1.  1.  1.  1.]\n",
      " [ 1.  1.  1.  1.]]\n",
      "[[0 1 2 3 4]\n",
      " [5 6 7 8 9]]\n"
     ]
    }
   ],
   "source": [
    "# Creating 2-D arrays\n",
    "\n",
    "# Using each row as a tuple\n",
    "array_2d = np.array([(1, 4, 5), (3, 8, 6)])\n",
    "print(array_2d)\n",
    "\n",
    "# Intialising to Zeros\n",
    "array_of_zeros = np.zeros((3, 4))\n",
    "print(array_of_zeros)\n",
    "\n",
    "# Ones\n",
    "array_of_ones = np.ones((2, 4))\n",
    "print(array_of_ones)\n",
    "\n",
    "# \n",
    "print(\"\\n\", np.arange(10).reshape(2, 5))\n"
   ]
  },
  {
   "cell_type": "code",
   "execution_count": 61,
   "metadata": {},
   "outputs": [
    {
     "name": "stdout",
     "output_type": "stream",
     "text": [
      "[[[ 1.  1.  1.  1.]\n",
      "  [ 1.  1.  1.  1.]\n",
      "  [ 1.  1.  1.  1.]]\n",
      "\n",
      " [[ 1.  1.  1.  1.]\n",
      "  [ 1.  1.  1.  1.]\n",
      "  [ 1.  1.  1.  1.]]]\n"
     ]
    }
   ],
   "source": [
    "# Creating 3-d arrays\n",
    "array_3d = np.ones((2, 3, 4))\n",
    "print(array_3d)"
   ]
  },
  {
   "cell_type": "code",
   "execution_count": 57,
   "metadata": {},
   "outputs": [
    {
     "name": "stdout",
     "output_type": "stream",
     "text": [
      "[1 2 3 4 5 6 7 8 9]\n",
      "4\n"
     ]
    }
   ],
   "source": [
    "# Indexing in arrays\n",
    "array_1d = np.arange(1, 10)\n",
    "print(array_1d)\n",
    "\n",
    "# getting the nth element in one- array\n",
    "print(array_1d[3])\n"
   ]
  },
  {
   "cell_type": "code",
   "execution_count": 63,
   "metadata": {},
   "outputs": [
    {
     "name": "stdout",
     "output_type": "stream",
     "text": [
      "[[1 4 5]\n",
      " [3 8 6]]\n",
      "4\n"
     ]
    }
   ],
   "source": [
    "# Indexing in 2-d arrays\n",
    "print(array_2d)\n",
    "\n",
    "# First row, second column\n",
    "print(array_2d[0, 1])"
   ]
  }
 ],
 "metadata": {
  "kernelspec": {
   "display_name": "Python 3",
   "language": "python",
   "name": "python3"
  },
  "language_info": {
   "codemirror_mode": {
    "name": "ipython",
    "version": 3
   },
   "file_extension": ".py",
   "mimetype": "text/x-python",
   "name": "python",
   "nbconvert_exporter": "python",
   "pygments_lexer": "ipython3",
   "version": "3.5.3"
  }
 },
 "nbformat": 4,
 "nbformat_minor": 2
}
